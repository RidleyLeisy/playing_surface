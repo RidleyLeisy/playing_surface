{
 "cells": [
  {
   "cell_type": "code",
   "execution_count": 1,
   "metadata": {},
   "outputs": [],
   "source": [
    "import pandas as pd\n",
    "import seaborn as sns\n",
    "import matplotlib.patches as patches\n",
    "import matplotlib.pylab as plt"
   ]
  },
  {
   "cell_type": "markdown",
   "metadata": {},
   "source": [
    "# Player Movement"
   ]
  },
  {
   "cell_type": "code",
   "execution_count": 2,
   "metadata": {},
   "outputs": [],
   "source": [
    "injury = pd.read_csv('data/InjuryRecord.csv')\n",
    "player = pd.read_csv('data/PlayerTrackData.csv')\n",
    "plays = pd.read_csv('data/PlayList.csv')"
   ]
  },
  {
   "cell_type": "code",
   "execution_count": 3,
   "metadata": {},
   "outputs": [
    {
     "data": {
      "text/plain": [
       "array(['huddle_start_offense', nan, 'huddle_break_offense', 'line_set',\n",
       "       'ball_snap', 'pass_forward', 'pass_arrived',\n",
       "       'pass_outcome_incomplete', 'pass_outcome_caught', 'first_contact',\n",
       "       'out_of_bounds', 'man_in_motion', 'handoff', 'tackle',\n",
       "       'penalty_flag', 'penalty_accepted', 'touchdown', 'shift',\n",
       "       'qb_kneel', 'fumble', 'fumble_offense_recovered', 'lateral',\n",
       "       'penalty_declined', 'qb_sack', 'pass_shovel',\n",
       "       'pass_outcome_touchdown', 'run', 'pass_outcome_interception',\n",
       "       'qb_strip_sack', 'two_point_conversion', 'pass_tipped',\n",
       "       'fumble_defense_recovered', 'two_minute_warning', 'two_point_play',\n",
       "       'snap_direct', 'play_action', 'qb_spike', 'pass_lateral',\n",
       "       'touchback', 'timeout_tv', 'timeout', 'kickoff_play',\n",
       "       'onside_kick', 'kick_received', 'safety', 'field_goal_attempt',\n",
       "       'field_goal', 'punt_play', 'punt', 'punt_land', 'fair_catch',\n",
       "       'punt_downed', 'punt_received', 'punt_fake', 'kickoff',\n",
       "       'kickoff_land', 'timeout_away', 'punt_muffed',\n",
       "       'timeout_booth_review', 'field_goal_play', 'run_pass_option',\n",
       "       'timeout_injury', 'kick_recovered', 'extra_point_attempt',\n",
       "       'extra_point', 'field_goal_blocked', 'field_goal_missed',\n",
       "       'timeout_home', 'extra_point_blocked', 'extra_point_missed',\n",
       "       'punt_blocked', 'timeout_quarter', 'end_path', 'field_goal_fake',\n",
       "       'xp_fake', 'extra_point_fake', 'timeout_halftime', 'free_kick',\n",
       "       'free_kick_play', 'drop_kick', 'play_submit\\t'], dtype=object)"
      ]
     },
     "execution_count": 3,
     "metadata": {},
     "output_type": "execute_result"
    }
   ],
   "source": [
    "player['event'].unique()"
   ]
  },
  {
   "cell_type": "markdown",
   "metadata": {},
   "source": [
    "## Wrangle"
   ]
  },
  {
   "cell_type": "code",
   "execution_count": 4,
   "metadata": {},
   "outputs": [
    {
     "data": {
      "text/html": [
       "<div>\n",
       "<style scoped>\n",
       "    .dataframe tbody tr th:only-of-type {\n",
       "        vertical-align: middle;\n",
       "    }\n",
       "\n",
       "    .dataframe tbody tr th {\n",
       "        vertical-align: top;\n",
       "    }\n",
       "\n",
       "    .dataframe thead th {\n",
       "        text-align: right;\n",
       "    }\n",
       "</style>\n",
       "<table border=\"1\" class=\"dataframe\">\n",
       "  <thead>\n",
       "    <tr style=\"text-align: right;\">\n",
       "      <th></th>\n",
       "      <th>PlayerKey</th>\n",
       "      <th>GameID</th>\n",
       "      <th>PlayKey</th>\n",
       "      <th>RosterPosition</th>\n",
       "      <th>PlayerDay</th>\n",
       "      <th>PlayerGame</th>\n",
       "      <th>StadiumType</th>\n",
       "      <th>FieldType</th>\n",
       "      <th>Temperature</th>\n",
       "      <th>Weather</th>\n",
       "      <th>PlayType</th>\n",
       "      <th>PlayerGamePlay</th>\n",
       "      <th>Position</th>\n",
       "      <th>PositionGroup</th>\n",
       "    </tr>\n",
       "  </thead>\n",
       "  <tbody>\n",
       "    <tr>\n",
       "      <td>0</td>\n",
       "      <td>26624</td>\n",
       "      <td>26624-1</td>\n",
       "      <td>26624-1-1</td>\n",
       "      <td>Quarterback</td>\n",
       "      <td>1</td>\n",
       "      <td>1</td>\n",
       "      <td>Outdoor</td>\n",
       "      <td>Synthetic</td>\n",
       "      <td>63</td>\n",
       "      <td>Clear and warm</td>\n",
       "      <td>Pass</td>\n",
       "      <td>1</td>\n",
       "      <td>QB</td>\n",
       "      <td>QB</td>\n",
       "    </tr>\n",
       "    <tr>\n",
       "      <td>1</td>\n",
       "      <td>26624</td>\n",
       "      <td>26624-1</td>\n",
       "      <td>26624-1-2</td>\n",
       "      <td>Quarterback</td>\n",
       "      <td>1</td>\n",
       "      <td>1</td>\n",
       "      <td>Outdoor</td>\n",
       "      <td>Synthetic</td>\n",
       "      <td>63</td>\n",
       "      <td>Clear and warm</td>\n",
       "      <td>Pass</td>\n",
       "      <td>2</td>\n",
       "      <td>QB</td>\n",
       "      <td>QB</td>\n",
       "    </tr>\n",
       "  </tbody>\n",
       "</table>\n",
       "</div>"
      ],
      "text/plain": [
       "   PlayerKey   GameID    PlayKey RosterPosition  PlayerDay  PlayerGame  \\\n",
       "0      26624  26624-1  26624-1-1    Quarterback          1           1   \n",
       "1      26624  26624-1  26624-1-2    Quarterback          1           1   \n",
       "\n",
       "  StadiumType  FieldType  Temperature         Weather PlayType  \\\n",
       "0     Outdoor  Synthetic           63  Clear and warm     Pass   \n",
       "1     Outdoor  Synthetic           63  Clear and warm     Pass   \n",
       "\n",
       "   PlayerGamePlay Position PositionGroup  \n",
       "0               1       QB            QB  \n",
       "1               2       QB            QB  "
      ]
     },
     "execution_count": 4,
     "metadata": {},
     "output_type": "execute_result"
    }
   ],
   "source": [
    "plays.head(2)"
   ]
  },
  {
   "cell_type": "code",
   "execution_count": 5,
   "metadata": {},
   "outputs": [
    {
     "data": {
      "text/html": [
       "<div>\n",
       "<style scoped>\n",
       "    .dataframe tbody tr th:only-of-type {\n",
       "        vertical-align: middle;\n",
       "    }\n",
       "\n",
       "    .dataframe tbody tr th {\n",
       "        vertical-align: top;\n",
       "    }\n",
       "\n",
       "    .dataframe thead th {\n",
       "        text-align: right;\n",
       "    }\n",
       "</style>\n",
       "<table border=\"1\" class=\"dataframe\">\n",
       "  <thead>\n",
       "    <tr style=\"text-align: right;\">\n",
       "      <th></th>\n",
       "      <th>PlayKey</th>\n",
       "      <th>time</th>\n",
       "      <th>event</th>\n",
       "      <th>x</th>\n",
       "      <th>y</th>\n",
       "      <th>dir</th>\n",
       "      <th>dis</th>\n",
       "      <th>o</th>\n",
       "      <th>s</th>\n",
       "    </tr>\n",
       "  </thead>\n",
       "  <tbody>\n",
       "    <tr>\n",
       "      <td>0</td>\n",
       "      <td>26624-1-1</td>\n",
       "      <td>0.0</td>\n",
       "      <td>huddle_start_offense</td>\n",
       "      <td>87.46</td>\n",
       "      <td>28.93</td>\n",
       "      <td>288.24</td>\n",
       "      <td>0.01</td>\n",
       "      <td>262.33</td>\n",
       "      <td>0.13</td>\n",
       "    </tr>\n",
       "    <tr>\n",
       "      <td>1</td>\n",
       "      <td>26624-1-1</td>\n",
       "      <td>0.1</td>\n",
       "      <td>NaN</td>\n",
       "      <td>87.45</td>\n",
       "      <td>28.92</td>\n",
       "      <td>283.91</td>\n",
       "      <td>0.01</td>\n",
       "      <td>261.69</td>\n",
       "      <td>0.12</td>\n",
       "    </tr>\n",
       "  </tbody>\n",
       "</table>\n",
       "</div>"
      ],
      "text/plain": [
       "     PlayKey  time                 event      x      y     dir   dis       o  \\\n",
       "0  26624-1-1   0.0  huddle_start_offense  87.46  28.93  288.24  0.01  262.33   \n",
       "1  26624-1-1   0.1                   NaN  87.45  28.92  283.91  0.01  261.69   \n",
       "\n",
       "      s  \n",
       "0  0.13  \n",
       "1  0.12  "
      ]
     },
     "execution_count": 5,
     "metadata": {},
     "output_type": "execute_result"
    }
   ],
   "source": [
    "player.head(2)"
   ]
  },
  {
   "cell_type": "code",
   "execution_count": 6,
   "metadata": {},
   "outputs": [
    {
     "data": {
      "text/html": [
       "<div>\n",
       "<style scoped>\n",
       "    .dataframe tbody tr th:only-of-type {\n",
       "        vertical-align: middle;\n",
       "    }\n",
       "\n",
       "    .dataframe tbody tr th {\n",
       "        vertical-align: top;\n",
       "    }\n",
       "\n",
       "    .dataframe thead th {\n",
       "        text-align: right;\n",
       "    }\n",
       "</style>\n",
       "<table border=\"1\" class=\"dataframe\">\n",
       "  <thead>\n",
       "    <tr style=\"text-align: right;\">\n",
       "      <th></th>\n",
       "      <th>PlayerKey</th>\n",
       "      <th>GameID</th>\n",
       "      <th>PlayKey</th>\n",
       "      <th>BodyPart</th>\n",
       "      <th>Surface</th>\n",
       "      <th>DM_M1</th>\n",
       "      <th>DM_M7</th>\n",
       "      <th>DM_M28</th>\n",
       "      <th>DM_M42</th>\n",
       "    </tr>\n",
       "  </thead>\n",
       "  <tbody>\n",
       "    <tr>\n",
       "      <td>0</td>\n",
       "      <td>39873</td>\n",
       "      <td>39873-4</td>\n",
       "      <td>39873-4-32</td>\n",
       "      <td>Knee</td>\n",
       "      <td>Synthetic</td>\n",
       "      <td>1</td>\n",
       "      <td>1</td>\n",
       "      <td>1</td>\n",
       "      <td>1</td>\n",
       "    </tr>\n",
       "    <tr>\n",
       "      <td>1</td>\n",
       "      <td>46074</td>\n",
       "      <td>46074-7</td>\n",
       "      <td>46074-7-26</td>\n",
       "      <td>Knee</td>\n",
       "      <td>Natural</td>\n",
       "      <td>1</td>\n",
       "      <td>1</td>\n",
       "      <td>0</td>\n",
       "      <td>0</td>\n",
       "    </tr>\n",
       "  </tbody>\n",
       "</table>\n",
       "</div>"
      ],
      "text/plain": [
       "   PlayerKey   GameID     PlayKey BodyPart    Surface  DM_M1  DM_M7  DM_M28  \\\n",
       "0      39873  39873-4  39873-4-32     Knee  Synthetic      1      1       1   \n",
       "1      46074  46074-7  46074-7-26     Knee    Natural      1      1       0   \n",
       "\n",
       "   DM_M42  \n",
       "0       1  \n",
       "1       0  "
      ]
     },
     "execution_count": 6,
     "metadata": {},
     "output_type": "execute_result"
    }
   ],
   "source": [
    "injury.head(2)"
   ]
  },
  {
   "cell_type": "code",
   "execution_count": 7,
   "metadata": {},
   "outputs": [],
   "source": [
    "all_df = player.merge(plays,on='PlayKey',how='left')"
   ]
  },
  {
   "cell_type": "code",
   "execution_count": 8,
   "metadata": {},
   "outputs": [],
   "source": [
    "all_df = all_df.merge(injury,how='left',on='PlayKey')"
   ]
  },
  {
   "cell_type": "code",
   "execution_count": 9,
   "metadata": {},
   "outputs": [],
   "source": [
    "injury_plays = injury['PlayKey'].dropna()"
   ]
  },
  {
   "cell_type": "code",
   "execution_count": 10,
   "metadata": {},
   "outputs": [],
   "source": [
    "injury_df = all_df.loc[all_df['PlayKey'].isin(injury_plays)]\n",
    "non_injury_df = all_df.loc[~all_df['PlayKey'].isin(injury_plays)]"
   ]
  },
  {
   "cell_type": "code",
   "execution_count": 11,
   "metadata": {},
   "outputs": [
    {
     "data": {
      "text/plain": [
       "(22195, 30)"
      ]
     },
     "execution_count": 11,
     "metadata": {},
     "output_type": "execute_result"
    }
   ],
   "source": [
    "injury_df.shape"
   ]
  },
  {
   "cell_type": "code",
   "execution_count": 12,
   "metadata": {},
   "outputs": [
    {
     "data": {
      "text/plain": [
       "(76344843, 30)"
      ]
     },
     "execution_count": 12,
     "metadata": {},
     "output_type": "execute_result"
    }
   ],
   "source": [
    "non_injury_df.shape"
   ]
  },
  {
   "cell_type": "code",
   "execution_count": 13,
   "metadata": {
    "jupyter": {
     "source_hidden": true
    }
   },
   "outputs": [],
   "source": [
    "def create_football_field(linenumbers=True,\n",
    "                          endzones=True,\n",
    "                          highlight_line=False,\n",
    "                          highlight_line_number=50,\n",
    "                          highlighted_name='Line of Scrimmage',\n",
    "                          fifty_is_los=False,\n",
    "                          figsize=(12, 6.33)):\n",
    "    \"\"\"\n",
    "    Function that plots the football field for viewing plays.\n",
    "    Allows for showing or hiding endzones.\n",
    "    \"\"\"\n",
    "    rect = patches.Rectangle((0, 0), 120, 53.3, linewidth=0.1,\n",
    "                             edgecolor='r', facecolor='darkgreen', zorder=0)\n",
    "\n",
    "    fig, ax = plt.subplots(1, figsize=figsize)\n",
    "    ax.add_patch(rect)\n",
    "\n",
    "    plt.plot([10, 10, 10, 20, 20, 30, 30, 40, 40, 50, 50, 60, 60, 70, 70, 80,\n",
    "              80, 90, 90, 100, 100, 110, 110, 120, 0, 0, 120, 120],\n",
    "             [0, 0, 53.3, 53.3, 0, 0, 53.3, 53.3, 0, 0, 53.3, 53.3, 0, 0, 53.3,\n",
    "              53.3, 0, 0, 53.3, 53.3, 0, 0, 53.3, 53.3, 53.3, 0, 0, 53.3],\n",
    "             color='white')\n",
    "    if fifty_is_los:\n",
    "        plt.plot([60, 60], [0, 53.3], color='gold')\n",
    "        plt.text(62, 50, '<- Player Yardline at Snap', color='gold')\n",
    "    # Endzones\n",
    "    if endzones:\n",
    "        ez1 = patches.Rectangle((0, 0), 10, 53.3,\n",
    "                                linewidth=0.1,\n",
    "                                edgecolor='r',\n",
    "                                facecolor='blue',\n",
    "                                alpha=0.2,\n",
    "                                zorder=0)\n",
    "        ez2 = patches.Rectangle((110, 0), 120, 53.3,\n",
    "                                linewidth=0.1,\n",
    "                                edgecolor='r',\n",
    "                                facecolor='blue',\n",
    "                                alpha=0.2,\n",
    "                                zorder=0)\n",
    "        ax.add_patch(ez1)\n",
    "        ax.add_patch(ez2)\n",
    "    plt.xlim(0, 120)\n",
    "    plt.ylim(-5, 58.3)\n",
    "    plt.axis('off')\n",
    "    if linenumbers:\n",
    "        for x in range(20, 110, 10):\n",
    "            numb = x\n",
    "            if x > 50:\n",
    "                numb = 120 - x\n",
    "            plt.text(x, 5, str(numb - 10),\n",
    "                     horizontalalignment='center',\n",
    "                     fontsize=20,  # fontname='Arial',\n",
    "                     color='white')\n",
    "            plt.text(x - 0.95, 53.3 - 5, str(numb - 10),\n",
    "                     horizontalalignment='center',\n",
    "                     fontsize=20,  # fontname='Arial',\n",
    "                     color='white', rotation=180)\n",
    "    if endzones:\n",
    "        hash_range = range(11, 110)\n",
    "    else:\n",
    "        hash_range = range(1, 120)\n",
    "\n",
    "    for x in hash_range:\n",
    "        ax.plot([x, x], [0.4, 0.7], color='white')\n",
    "        ax.plot([x, x], [53.0, 52.5], color='white')\n",
    "        ax.plot([x, x], [22.91, 23.57], color='white')\n",
    "        ax.plot([x, x], [29.73, 30.39], color='white')\n",
    "\n",
    "    if highlight_line:\n",
    "        hl = highlight_line_number + 10\n",
    "        plt.plot([hl, hl], [0, 53.3], color='yellow')\n",
    "        plt.text(hl + 2, 50, '<- {}'.format(highlighted_name),\n",
    "                 color='yellow')\n",
    "    return fig, ax"
   ]
  },
  {
   "cell_type": "markdown",
   "metadata": {},
   "source": [
    "## Analysis of speed on Synthetic vs Natural"
   ]
  },
  {
   "cell_type": "markdown",
   "metadata": {},
   "source": [
    "#### Injury"
   ]
  },
  {
   "cell_type": "code",
   "execution_count": 36,
   "metadata": {},
   "outputs": [
    {
     "data": {
      "text/plain": [
       "<matplotlib.collections.PathCollection at 0x136a7c950>"
      ]
     },
     "execution_count": 36,
     "metadata": {},
     "output_type": "execute_result"
    },
    {
     "data": {
      "image/png": "[encoded data removed]",
      "text/plain": [
       "<Figure size 864x455.76 with 1 Axes>"
      ]
     },
     "metadata": {
      "needs_background": "light"
     },
     "output_type": "display_data"
    }
   ],
   "source": [
    "fig, ax = create_football_field()\n",
    "plt.scatter(x=injury_df['x'],y=injury_df['y'])"
   ]
  },
  {
   "cell_type": "code",
   "execution_count": 14,
   "metadata": {},
   "outputs": [
    {
     "data": {
      "text/plain": [
       "array(['line_set', nan, 'ball_snap', 'handoff', 'first_contact', 'tackle'],\n",
       "      dtype=object)"
      ]
     },
     "execution_count": 14,
     "metadata": {},
     "output_type": "execute_result"
    }
   ],
   "source": [
    "injury_df[0:233]['event'].unique()"
   ]
  },
  {
   "cell_type": "markdown",
   "metadata": {},
   "source": [
    "#### Speed from handoff to first contact"
   ]
  },
  {
   "cell_type": "markdown",
   "metadata": {},
   "source": [
    "##### Run\n",
    "Lets look at the speed and orientation at first contact and then the acceleration from first contact to tackle"
   ]
  },
  {
   "cell_type": "code",
   "execution_count": 29,
   "metadata": {},
   "outputs": [],
   "source": [
    "handoff_keys = injury_df.loc[(injury_df['event'] == 'handoff')]['PlayKey']"
   ]
  },
  {
   "cell_type": "code",
   "execution_count": 26,
   "metadata": {},
   "outputs": [
    {
     "data": {
      "text/plain": [
       "handoff                     21\n",
       "ball_snap                   21\n",
       "line_set                    20\n",
       "tackle                      19\n",
       "first_contact               18\n",
       "huddle_break_offense        15\n",
       "huddle_start_offense         9\n",
       "man_in_motion                5\n",
       "shift                        3\n",
       "penalty_flag                 1\n",
       "fumble_defense_recovered     1\n",
       "out_of_bounds                1\n",
       "fumble                       1\n",
       "touchdown                    1\n",
       "Name: event, dtype: int64"
      ]
     },
     "execution_count": 26,
     "metadata": {},
     "output_type": "execute_result"
    }
   ],
   "source": [
    "injury_df.loc[injury_df['PlayKey'].isin(handoff_keys.values)]['event'].value_counts()"
   ]
  },
  {
   "cell_type": "code",
   "execution_count": 30,
   "metadata": {},
   "outputs": [
    {
     "data": {
      "text/html": [
       "<div>\n",
       "<style scoped>\n",
       "    .dataframe tbody tr th:only-of-type {\n",
       "        vertical-align: middle;\n",
       "    }\n",
       "\n",
       "    .dataframe tbody tr th {\n",
       "        vertical-align: top;\n",
       "    }\n",
       "\n",
       "    .dataframe thead th {\n",
       "        text-align: right;\n",
       "    }\n",
       "</style>\n",
       "<table border=\"1\" class=\"dataframe\">\n",
       "  <thead>\n",
       "    <tr style=\"text-align: right;\">\n",
       "      <th></th>\n",
       "      <th>PlayKey</th>\n",
       "      <th>time</th>\n",
       "      <th>event</th>\n",
       "      <th>x</th>\n",
       "      <th>y</th>\n",
       "      <th>dir</th>\n",
       "      <th>dis</th>\n",
       "      <th>o</th>\n",
       "      <th>s</th>\n",
       "      <th>PlayerKey_x</th>\n",
       "      <th>...</th>\n",
       "      <th>Position</th>\n",
       "      <th>PositionGroup</th>\n",
       "      <th>PlayerKey_y</th>\n",
       "      <th>GameID_y</th>\n",
       "      <th>BodyPart</th>\n",
       "      <th>Surface</th>\n",
       "      <th>DM_M1</th>\n",
       "      <th>DM_M7</th>\n",
       "      <th>DM_M28</th>\n",
       "      <th>DM_M42</th>\n",
       "    </tr>\n",
       "  </thead>\n",
       "  <tbody>\n",
       "    <tr>\n",
       "      <td>2085848</td>\n",
       "      <td>31070-3-7</td>\n",
       "      <td>0.0</td>\n",
       "      <td>line_set</td>\n",
       "      <td>44.07</td>\n",
       "      <td>32.14</td>\n",
       "      <td>23.31</td>\n",
       "      <td>0.00</td>\n",
       "      <td>174.83</td>\n",
       "      <td>0.03</td>\n",
       "      <td>31070</td>\n",
       "      <td>...</td>\n",
       "      <td>RB</td>\n",
       "      <td>RB</td>\n",
       "      <td>31070.0</td>\n",
       "      <td>31070-3</td>\n",
       "      <td>Knee</td>\n",
       "      <td>Natural</td>\n",
       "      <td>1.0</td>\n",
       "      <td>1.0</td>\n",
       "      <td>1.0</td>\n",
       "      <td>1.0</td>\n",
       "    </tr>\n",
       "    <tr>\n",
       "      <td>2085849</td>\n",
       "      <td>31070-3-7</td>\n",
       "      <td>0.1</td>\n",
       "      <td>NaN</td>\n",
       "      <td>44.08</td>\n",
       "      <td>32.14</td>\n",
       "      <td>20.18</td>\n",
       "      <td>0.00</td>\n",
       "      <td>175.09</td>\n",
       "      <td>0.03</td>\n",
       "      <td>31070</td>\n",
       "      <td>...</td>\n",
       "      <td>RB</td>\n",
       "      <td>RB</td>\n",
       "      <td>31070.0</td>\n",
       "      <td>31070-3</td>\n",
       "      <td>Knee</td>\n",
       "      <td>Natural</td>\n",
       "      <td>1.0</td>\n",
       "      <td>1.0</td>\n",
       "      <td>1.0</td>\n",
       "      <td>1.0</td>\n",
       "    </tr>\n",
       "    <tr>\n",
       "      <td>2085850</td>\n",
       "      <td>31070-3-7</td>\n",
       "      <td>0.2</td>\n",
       "      <td>NaN</td>\n",
       "      <td>44.08</td>\n",
       "      <td>32.14</td>\n",
       "      <td>16.53</td>\n",
       "      <td>0.00</td>\n",
       "      <td>175.35</td>\n",
       "      <td>0.03</td>\n",
       "      <td>31070</td>\n",
       "      <td>...</td>\n",
       "      <td>RB</td>\n",
       "      <td>RB</td>\n",
       "      <td>31070.0</td>\n",
       "      <td>31070-3</td>\n",
       "      <td>Knee</td>\n",
       "      <td>Natural</td>\n",
       "      <td>1.0</td>\n",
       "      <td>1.0</td>\n",
       "      <td>1.0</td>\n",
       "      <td>1.0</td>\n",
       "    </tr>\n",
       "    <tr>\n",
       "      <td>2085851</td>\n",
       "      <td>31070-3-7</td>\n",
       "      <td>0.3</td>\n",
       "      <td>NaN</td>\n",
       "      <td>44.08</td>\n",
       "      <td>32.14</td>\n",
       "      <td>13.23</td>\n",
       "      <td>0.00</td>\n",
       "      <td>175.60</td>\n",
       "      <td>0.02</td>\n",
       "      <td>31070</td>\n",
       "      <td>...</td>\n",
       "      <td>RB</td>\n",
       "      <td>RB</td>\n",
       "      <td>31070.0</td>\n",
       "      <td>31070-3</td>\n",
       "      <td>Knee</td>\n",
       "      <td>Natural</td>\n",
       "      <td>1.0</td>\n",
       "      <td>1.0</td>\n",
       "      <td>1.0</td>\n",
       "      <td>1.0</td>\n",
       "    </tr>\n",
       "    <tr>\n",
       "      <td>2085852</td>\n",
       "      <td>31070-3-7</td>\n",
       "      <td>0.4</td>\n",
       "      <td>NaN</td>\n",
       "      <td>44.08</td>\n",
       "      <td>32.14</td>\n",
       "      <td>9.78</td>\n",
       "      <td>0.00</td>\n",
       "      <td>175.82</td>\n",
       "      <td>0.02</td>\n",
       "      <td>31070</td>\n",
       "      <td>...</td>\n",
       "      <td>RB</td>\n",
       "      <td>RB</td>\n",
       "      <td>31070.0</td>\n",
       "      <td>31070-3</td>\n",
       "      <td>Knee</td>\n",
       "      <td>Natural</td>\n",
       "      <td>1.0</td>\n",
       "      <td>1.0</td>\n",
       "      <td>1.0</td>\n",
       "      <td>1.0</td>\n",
       "    </tr>\n",
       "    <tr>\n",
       "      <td>...</td>\n",
       "      <td>...</td>\n",
       "      <td>...</td>\n",
       "      <td>...</td>\n",
       "      <td>...</td>\n",
       "      <td>...</td>\n",
       "      <td>...</td>\n",
       "      <td>...</td>\n",
       "      <td>...</td>\n",
       "      <td>...</td>\n",
       "      <td>...</td>\n",
       "      <td>...</td>\n",
       "      <td>...</td>\n",
       "      <td>...</td>\n",
       "      <td>...</td>\n",
       "      <td>...</td>\n",
       "      <td>...</td>\n",
       "      <td>...</td>\n",
       "      <td>...</td>\n",
       "      <td>...</td>\n",
       "      <td>...</td>\n",
       "      <td>...</td>\n",
       "    </tr>\n",
       "    <tr>\n",
       "      <td>75671026</td>\n",
       "      <td>47382-3-34</td>\n",
       "      <td>10.0</td>\n",
       "      <td>NaN</td>\n",
       "      <td>62.12</td>\n",
       "      <td>28.64</td>\n",
       "      <td>236.21</td>\n",
       "      <td>0.03</td>\n",
       "      <td>296.25</td>\n",
       "      <td>0.59</td>\n",
       "      <td>47382</td>\n",
       "      <td>...</td>\n",
       "      <td>LB</td>\n",
       "      <td>LB</td>\n",
       "      <td>47382.0</td>\n",
       "      <td>47382-3</td>\n",
       "      <td>Ankle</td>\n",
       "      <td>Synthetic</td>\n",
       "      <td>1.0</td>\n",
       "      <td>0.0</td>\n",
       "      <td>0.0</td>\n",
       "      <td>0.0</td>\n",
       "    </tr>\n",
       "    <tr>\n",
       "      <td>75671027</td>\n",
       "      <td>47382-3-34</td>\n",
       "      <td>10.1</td>\n",
       "      <td>NaN</td>\n",
       "      <td>62.10</td>\n",
       "      <td>28.63</td>\n",
       "      <td>233.18</td>\n",
       "      <td>0.02</td>\n",
       "      <td>279.07</td>\n",
       "      <td>0.43</td>\n",
       "      <td>47382</td>\n",
       "      <td>...</td>\n",
       "      <td>LB</td>\n",
       "      <td>LB</td>\n",
       "      <td>47382.0</td>\n",
       "      <td>47382-3</td>\n",
       "      <td>Ankle</td>\n",
       "      <td>Synthetic</td>\n",
       "      <td>1.0</td>\n",
       "      <td>0.0</td>\n",
       "      <td>0.0</td>\n",
       "      <td>0.0</td>\n",
       "    </tr>\n",
       "    <tr>\n",
       "      <td>75671028</td>\n",
       "      <td>47382-3-34</td>\n",
       "      <td>10.2</td>\n",
       "      <td>tackle</td>\n",
       "      <td>62.10</td>\n",
       "      <td>28.61</td>\n",
       "      <td>224.96</td>\n",
       "      <td>0.02</td>\n",
       "      <td>279.07</td>\n",
       "      <td>0.34</td>\n",
       "      <td>47382</td>\n",
       "      <td>...</td>\n",
       "      <td>LB</td>\n",
       "      <td>LB</td>\n",
       "      <td>47382.0</td>\n",
       "      <td>47382-3</td>\n",
       "      <td>Ankle</td>\n",
       "      <td>Synthetic</td>\n",
       "      <td>1.0</td>\n",
       "      <td>0.0</td>\n",
       "      <td>0.0</td>\n",
       "      <td>0.0</td>\n",
       "    </tr>\n",
       "    <tr>\n",
       "      <td>75671029</td>\n",
       "      <td>47382-3-34</td>\n",
       "      <td>10.3</td>\n",
       "      <td>NaN</td>\n",
       "      <td>62.10</td>\n",
       "      <td>28.61</td>\n",
       "      <td>218.87</td>\n",
       "      <td>0.00</td>\n",
       "      <td>270.71</td>\n",
       "      <td>0.24</td>\n",
       "      <td>47382</td>\n",
       "      <td>...</td>\n",
       "      <td>LB</td>\n",
       "      <td>LB</td>\n",
       "      <td>47382.0</td>\n",
       "      <td>47382-3</td>\n",
       "      <td>Ankle</td>\n",
       "      <td>Synthetic</td>\n",
       "      <td>1.0</td>\n",
       "      <td>0.0</td>\n",
       "      <td>0.0</td>\n",
       "      <td>0.0</td>\n",
       "    </tr>\n",
       "    <tr>\n",
       "      <td>75671030</td>\n",
       "      <td>47382-3-34</td>\n",
       "      <td>10.4</td>\n",
       "      <td>NaN</td>\n",
       "      <td>62.09</td>\n",
       "      <td>28.59</td>\n",
       "      <td>213.91</td>\n",
       "      <td>0.02</td>\n",
       "      <td>269.58</td>\n",
       "      <td>0.19</td>\n",
       "      <td>47382</td>\n",
       "      <td>...</td>\n",
       "      <td>LB</td>\n",
       "      <td>LB</td>\n",
       "      <td>47382.0</td>\n",
       "      <td>47382-3</td>\n",
       "      <td>Ankle</td>\n",
       "      <td>Synthetic</td>\n",
       "      <td>1.0</td>\n",
       "      <td>0.0</td>\n",
       "      <td>0.0</td>\n",
       "      <td>0.0</td>\n",
       "    </tr>\n",
       "  </tbody>\n",
       "</table>\n",
       "<p>5641 rows × 30 columns</p>\n",
       "</div>"
      ],
      "text/plain": [
       "             PlayKey  time     event      x      y     dir   dis       o  \\\n",
       "2085848    31070-3-7   0.0  line_set  44.07  32.14   23.31  0.00  174.83   \n",
       "2085849    31070-3-7   0.1       NaN  44.08  32.14   20.18  0.00  175.09   \n",
       "2085850    31070-3-7   0.2       NaN  44.08  32.14   16.53  0.00  175.35   \n",
       "2085851    31070-3-7   0.3       NaN  44.08  32.14   13.23  0.00  175.60   \n",
       "2085852    31070-3-7   0.4       NaN  44.08  32.14    9.78  0.00  175.82   \n",
       "...              ...   ...       ...    ...    ...     ...   ...     ...   \n",
       "75671026  47382-3-34  10.0       NaN  62.12  28.64  236.21  0.03  296.25   \n",
       "75671027  47382-3-34  10.1       NaN  62.10  28.63  233.18  0.02  279.07   \n",
       "75671028  47382-3-34  10.2    tackle  62.10  28.61  224.96  0.02  279.07   \n",
       "75671029  47382-3-34  10.3       NaN  62.10  28.61  218.87  0.00  270.71   \n",
       "75671030  47382-3-34  10.4       NaN  62.09  28.59  213.91  0.02  269.58   \n",
       "\n",
       "             s  PlayerKey_x  ... Position PositionGroup  PlayerKey_y  \\\n",
       "2085848   0.03        31070  ...       RB            RB      31070.0   \n",
       "2085849   0.03        31070  ...       RB            RB      31070.0   \n",
       "2085850   0.03        31070  ...       RB            RB      31070.0   \n",
       "2085851   0.02        31070  ...       RB            RB      31070.0   \n",
       "2085852   0.02        31070  ...       RB            RB      31070.0   \n",
       "...        ...          ...  ...      ...           ...          ...   \n",
       "75671026  0.59        47382  ...       LB            LB      47382.0   \n",
       "75671027  0.43        47382  ...       LB            LB      47382.0   \n",
       "75671028  0.34        47382  ...       LB            LB      47382.0   \n",
       "75671029  0.24        47382  ...       LB            LB      47382.0   \n",
       "75671030  0.19        47382  ...       LB            LB      47382.0   \n",
       "\n",
       "          GameID_y BodyPart    Surface  DM_M1 DM_M7 DM_M28  DM_M42  \n",
       "2085848    31070-3     Knee    Natural    1.0   1.0    1.0     1.0  \n",
       "2085849    31070-3     Knee    Natural    1.0   1.0    1.0     1.0  \n",
       "2085850    31070-3     Knee    Natural    1.0   1.0    1.0     1.0  \n",
       "2085851    31070-3     Knee    Natural    1.0   1.0    1.0     1.0  \n",
       "2085852    31070-3     Knee    Natural    1.0   1.0    1.0     1.0  \n",
       "...            ...      ...        ...    ...   ...    ...     ...  \n",
       "75671026   47382-3    Ankle  Synthetic    1.0   0.0    0.0     0.0  \n",
       "75671027   47382-3    Ankle  Synthetic    1.0   0.0    0.0     0.0  \n",
       "75671028   47382-3    Ankle  Synthetic    1.0   0.0    0.0     0.0  \n",
       "75671029   47382-3    Ankle  Synthetic    1.0   0.0    0.0     0.0  \n",
       "75671030   47382-3    Ankle  Synthetic    1.0   0.0    0.0     0.0  \n",
       "\n",
       "[5641 rows x 30 columns]"
      ]
     },
     "execution_count": 30,
     "metadata": {},
     "output_type": "execute_result"
    }
   ],
   "source": [
    "injury_df.loc[injury_df['PlayKey'].isin(handoff_keys.values)]"
   ]
  },
  {
   "cell_type": "code",
   "execution_count": null,
   "metadata": {},
   "outputs": [],
   "source": []
  },
  {
   "cell_type": "code",
   "execution_count": null,
   "metadata": {},
   "outputs": [],
   "source": []
  },
  {
   "cell_type": "markdown",
   "metadata": {},
   "source": [
    "#### Non Injury"
   ]
  },
  {
   "cell_type": "code",
   "execution_count": null,
   "metadata": {},
   "outputs": [],
   "source": []
  },
  {
   "cell_type": "code",
   "execution_count": null,
   "metadata": {},
   "outputs": [],
   "source": []
  },
  {
   "cell_type": "markdown",
   "metadata": {},
   "source": [
    "## Analysis of direction on Synthetic vs Natural"
   ]
  },
  {
   "cell_type": "markdown",
   "metadata": {},
   "source": [
    "#### Non Injury"
   ]
  },
  {
   "cell_type": "code",
   "execution_count": null,
   "metadata": {},
   "outputs": [],
   "source": []
  },
  {
   "cell_type": "markdown",
   "metadata": {},
   "source": [
    "#### Injury"
   ]
  },
  {
   "cell_type": "code",
   "execution_count": null,
   "metadata": {},
   "outputs": [],
   "source": []
  },
  {
   "cell_type": "code",
   "execution_count": null,
   "metadata": {},
   "outputs": [],
   "source": []
  }
 ],
 "metadata": {
  "kernelspec": {
   "display_name": "Python 3",
   "language": "python",
   "name": "python3"
  },
  "language_info": {
   "codemirror_mode": {
    "name": "ipython",
    "version": 3
   },
   "file_extension": ".py",
   "mimetype": "text/x-python",
   "name": "python",
   "nbconvert_exporter": "python",
   "pygments_lexer": "ipython3",
   "version": "3.7.4"
  }
 },
 "nbformat": 4,
 "nbformat_minor": 4
}
